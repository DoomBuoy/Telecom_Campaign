{
 "cells": [
  {
   "cell_type": "markdown",
   "id": "88cc816e",
   "metadata": {},
   "source": [
    "# Project Setup\n",
    "\n",
    "This notebook will guide you through setting up your Python environment and downloading the dataset for the project.\n"
   ]
  },
  {
   "cell_type": "code",
   "execution_count": 6,
   "id": "abb57d53",
   "metadata": {},
   "outputs": [
    {
     "name": "stdout",
     "output_type": "stream",
     "text": [
      "Requirement already satisfied: poetry in c:\\users\\agama\\appdata\\local\\pypoetry\\cache\\virtualenvs\\telecom-campaign-fbmhxd0f-py3.13\\lib\\site-packages (2.1.4)\n",
      "Requirement already satisfied: build<2.0.0,>=1.2.1 in c:\\users\\agama\\appdata\\local\\pypoetry\\cache\\virtualenvs\\telecom-campaign-fbmhxd0f-py3.13\\lib\\site-packages (from poetry) (1.3.0)\n",
      "Requirement already satisfied: cachecontrol<0.15.0,>=0.14.0 in c:\\users\\agama\\appdata\\local\\pypoetry\\cache\\virtualenvs\\telecom-campaign-fbmhxd0f-py3.13\\lib\\site-packages (from cachecontrol[filecache]<0.15.0,>=0.14.0->poetry) (0.14.3)\n",
      "Requirement already satisfied: cleo<3.0.0,>=2.1.0 in c:\\users\\agama\\appdata\\local\\pypoetry\\cache\\virtualenvs\\telecom-campaign-fbmhxd0f-py3.13\\lib\\site-packages (from poetry) (2.1.0)\n",
      "Requirement already satisfied: dulwich<0.23.0,>=0.22.6 in c:\\users\\agama\\appdata\\local\\pypoetry\\cache\\virtualenvs\\telecom-campaign-fbmhxd0f-py3.13\\lib\\site-packages (from poetry) (0.22.8)\n",
      "Requirement already satisfied: fastjsonschema<3.0.0,>=2.18.0 in c:\\users\\agama\\appdata\\local\\pypoetry\\cache\\virtualenvs\\telecom-campaign-fbmhxd0f-py3.13\\lib\\site-packages (from poetry) (2.21.2)\n",
      "Requirement already satisfied: findpython<0.7.0,>=0.6.2 in c:\\users\\agama\\appdata\\local\\pypoetry\\cache\\virtualenvs\\telecom-campaign-fbmhxd0f-py3.13\\lib\\site-packages (from poetry) (0.6.3)\n",
      "Requirement already satisfied: installer<0.8.0,>=0.7.0 in c:\\users\\agama\\appdata\\local\\pypoetry\\cache\\virtualenvs\\telecom-campaign-fbmhxd0f-py3.13\\lib\\site-packages (from poetry) (0.7.0)\n",
      "Requirement already satisfied: keyring<26.0.0,>=25.1.0 in c:\\users\\agama\\appdata\\local\\pypoetry\\cache\\virtualenvs\\telecom-campaign-fbmhxd0f-py3.13\\lib\\site-packages (from poetry) (25.6.0)\n",
      "Requirement already satisfied: packaging>=24.0 in c:\\users\\agama\\appdata\\local\\pypoetry\\cache\\virtualenvs\\telecom-campaign-fbmhxd0f-py3.13\\lib\\site-packages (from poetry) (25.0)\n",
      "Requirement already satisfied: pbs-installer<2026.0.0,>=2025.1.6 in c:\\users\\agama\\appdata\\local\\pypoetry\\cache\\virtualenvs\\telecom-campaign-fbmhxd0f-py3.13\\lib\\site-packages (from pbs-installer[download,install]<2026.0.0,>=2025.1.6->poetry) (2025.9.2)\n",
      "Requirement already satisfied: pkginfo<2.0,>=1.12 in c:\\users\\agama\\appdata\\local\\pypoetry\\cache\\virtualenvs\\telecom-campaign-fbmhxd0f-py3.13\\lib\\site-packages (from poetry) (1.12.1.2)\n",
      "Requirement already satisfied: platformdirs<5,>=3.0.0 in c:\\users\\agama\\appdata\\local\\pypoetry\\cache\\virtualenvs\\telecom-campaign-fbmhxd0f-py3.13\\lib\\site-packages (from poetry) (4.4.0)\n",
      "Requirement already satisfied: poetry-core==2.1.3 in c:\\users\\agama\\appdata\\local\\pypoetry\\cache\\virtualenvs\\telecom-campaign-fbmhxd0f-py3.13\\lib\\site-packages (from poetry) (2.1.3)\n",
      "Requirement already satisfied: pyproject-hooks<2.0.0,>=1.0.0 in c:\\users\\agama\\appdata\\local\\pypoetry\\cache\\virtualenvs\\telecom-campaign-fbmhxd0f-py3.13\\lib\\site-packages (from poetry) (1.2.0)\n",
      "Requirement already satisfied: requests<3.0,>=2.26 in c:\\users\\agama\\appdata\\local\\pypoetry\\cache\\virtualenvs\\telecom-campaign-fbmhxd0f-py3.13\\lib\\site-packages (from poetry) (2.32.5)\n",
      "Requirement already satisfied: requests-toolbelt<2.0.0,>=1.0.0 in c:\\users\\agama\\appdata\\local\\pypoetry\\cache\\virtualenvs\\telecom-campaign-fbmhxd0f-py3.13\\lib\\site-packages (from poetry) (1.0.0)\n",
      "Requirement already satisfied: shellingham<2.0,>=1.5 in c:\\users\\agama\\appdata\\local\\pypoetry\\cache\\virtualenvs\\telecom-campaign-fbmhxd0f-py3.13\\lib\\site-packages (from poetry) (1.5.4)\n",
      "Requirement already satisfied: tomlkit<1.0.0,>=0.11.4 in c:\\users\\agama\\appdata\\local\\pypoetry\\cache\\virtualenvs\\telecom-campaign-fbmhxd0f-py3.13\\lib\\site-packages (from poetry) (0.13.3)\n",
      "Requirement already satisfied: trove-classifiers>=2022.5.19 in c:\\users\\agama\\appdata\\local\\pypoetry\\cache\\virtualenvs\\telecom-campaign-fbmhxd0f-py3.13\\lib\\site-packages (from poetry) (2025.8.26.11)\n",
      "Requirement already satisfied: virtualenv<20.33.0,>=20.26.6 in c:\\users\\agama\\appdata\\local\\pypoetry\\cache\\virtualenvs\\telecom-campaign-fbmhxd0f-py3.13\\lib\\site-packages (from poetry) (20.32.0)\n",
      "Requirement already satisfied: colorama in c:\\users\\agama\\appdata\\local\\pypoetry\\cache\\virtualenvs\\telecom-campaign-fbmhxd0f-py3.13\\lib\\site-packages (from build<2.0.0,>=1.2.1->poetry) (0.4.6)\n",
      "Requirement already satisfied: msgpack<2.0.0,>=0.5.2 in c:\\users\\agama\\appdata\\local\\pypoetry\\cache\\virtualenvs\\telecom-campaign-fbmhxd0f-py3.13\\lib\\site-packages (from cachecontrol<0.15.0,>=0.14.0->cachecontrol[filecache]<0.15.0,>=0.14.0->poetry) (1.1.1)\n",
      "Requirement already satisfied: filelock>=3.8.0 in c:\\users\\agama\\appdata\\local\\pypoetry\\cache\\virtualenvs\\telecom-campaign-fbmhxd0f-py3.13\\lib\\site-packages (from cachecontrol[filecache]<0.15.0,>=0.14.0->poetry) (3.19.1)\n",
      "Requirement already satisfied: crashtest<0.5.0,>=0.4.1 in c:\\users\\agama\\appdata\\local\\pypoetry\\cache\\virtualenvs\\telecom-campaign-fbmhxd0f-py3.13\\lib\\site-packages (from cleo<3.0.0,>=2.1.0->poetry) (0.4.1)\n",
      "Requirement already satisfied: rapidfuzz<4.0.0,>=3.0.0 in c:\\users\\agama\\appdata\\local\\pypoetry\\cache\\virtualenvs\\telecom-campaign-fbmhxd0f-py3.13\\lib\\site-packages (from cleo<3.0.0,>=2.1.0->poetry) (3.14.0)\n",
      "Requirement already satisfied: urllib3>=1.25 in c:\\users\\agama\\appdata\\local\\pypoetry\\cache\\virtualenvs\\telecom-campaign-fbmhxd0f-py3.13\\lib\\site-packages (from dulwich<0.23.0,>=0.22.6->poetry) (2.5.0)\n",
      "Requirement already satisfied: pywin32-ctypes>=0.2.0 in c:\\users\\agama\\appdata\\local\\pypoetry\\cache\\virtualenvs\\telecom-campaign-fbmhxd0f-py3.13\\lib\\site-packages (from keyring<26.0.0,>=25.1.0->poetry) (0.2.3)\n",
      "Requirement already satisfied: importlib_metadata>=4.11.4 in c:\\users\\agama\\appdata\\local\\pypoetry\\cache\\virtualenvs\\telecom-campaign-fbmhxd0f-py3.13\\lib\\site-packages (from keyring<26.0.0,>=25.1.0->poetry) (8.7.0)\n",
      "Requirement already satisfied: jaraco.classes in c:\\users\\agama\\appdata\\local\\pypoetry\\cache\\virtualenvs\\telecom-campaign-fbmhxd0f-py3.13\\lib\\site-packages (from keyring<26.0.0,>=25.1.0->poetry) (3.4.0)\n",
      "Requirement already satisfied: jaraco.functools in c:\\users\\agama\\appdata\\local\\pypoetry\\cache\\virtualenvs\\telecom-campaign-fbmhxd0f-py3.13\\lib\\site-packages (from keyring<26.0.0,>=25.1.0->poetry) (4.3.0)\n",
      "Requirement already satisfied: jaraco.context in c:\\users\\agama\\appdata\\local\\pypoetry\\cache\\virtualenvs\\telecom-campaign-fbmhxd0f-py3.13\\lib\\site-packages (from keyring<26.0.0,>=25.1.0->poetry) (6.0.1)\n",
      "Requirement already satisfied: httpx<1,>=0.27.0 in c:\\users\\agama\\appdata\\local\\pypoetry\\cache\\virtualenvs\\telecom-campaign-fbmhxd0f-py3.13\\lib\\site-packages (from pbs-installer[download,install]<2026.0.0,>=2025.1.6->poetry) (0.28.1)\n",
      "Requirement already satisfied: zstandard>=0.21.0 in c:\\users\\agama\\appdata\\local\\pypoetry\\cache\\virtualenvs\\telecom-campaign-fbmhxd0f-py3.13\\lib\\site-packages (from pbs-installer[download,install]<2026.0.0,>=2025.1.6->poetry) (0.24.0)\n",
      "Requirement already satisfied: anyio in c:\\users\\agama\\appdata\\local\\pypoetry\\cache\\virtualenvs\\telecom-campaign-fbmhxd0f-py3.13\\lib\\site-packages (from httpx<1,>=0.27.0->pbs-installer[download,install]<2026.0.0,>=2025.1.6->poetry) (4.10.0)\n",
      "Requirement already satisfied: certifi in c:\\users\\agama\\appdata\\local\\pypoetry\\cache\\virtualenvs\\telecom-campaign-fbmhxd0f-py3.13\\lib\\site-packages (from httpx<1,>=0.27.0->pbs-installer[download,install]<2026.0.0,>=2025.1.6->poetry) (2025.8.3)\n",
      "Requirement already satisfied: httpcore==1.* in c:\\users\\agama\\appdata\\local\\pypoetry\\cache\\virtualenvs\\telecom-campaign-fbmhxd0f-py3.13\\lib\\site-packages (from httpx<1,>=0.27.0->pbs-installer[download,install]<2026.0.0,>=2025.1.6->poetry) (1.0.9)\n",
      "Requirement already satisfied: idna in c:\\users\\agama\\appdata\\local\\pypoetry\\cache\\virtualenvs\\telecom-campaign-fbmhxd0f-py3.13\\lib\\site-packages (from httpx<1,>=0.27.0->pbs-installer[download,install]<2026.0.0,>=2025.1.6->poetry) (3.10)\n",
      "Requirement already satisfied: h11>=0.16 in c:\\users\\agama\\appdata\\local\\pypoetry\\cache\\virtualenvs\\telecom-campaign-fbmhxd0f-py3.13\\lib\\site-packages (from httpcore==1.*->httpx<1,>=0.27.0->pbs-installer[download,install]<2026.0.0,>=2025.1.6->poetry) (0.16.0)\n",
      "Requirement already satisfied: charset_normalizer<4,>=2 in c:\\users\\agama\\appdata\\local\\pypoetry\\cache\\virtualenvs\\telecom-campaign-fbmhxd0f-py3.13\\lib\\site-packages (from requests<3.0,>=2.26->poetry) (3.4.3)\n",
      "Requirement already satisfied: distlib<1,>=0.3.7 in c:\\users\\agama\\appdata\\local\\pypoetry\\cache\\virtualenvs\\telecom-campaign-fbmhxd0f-py3.13\\lib\\site-packages (from virtualenv<20.33.0,>=20.26.6->poetry) (0.4.0)\n",
      "Requirement already satisfied: zipp>=3.20 in c:\\users\\agama\\appdata\\local\\pypoetry\\cache\\virtualenvs\\telecom-campaign-fbmhxd0f-py3.13\\lib\\site-packages (from importlib_metadata>=4.11.4->keyring<26.0.0,>=25.1.0->poetry) (3.23.0)\n",
      "Requirement already satisfied: sniffio>=1.1 in c:\\users\\agama\\appdata\\local\\pypoetry\\cache\\virtualenvs\\telecom-campaign-fbmhxd0f-py3.13\\lib\\site-packages (from anyio->httpx<1,>=0.27.0->pbs-installer[download,install]<2026.0.0,>=2025.1.6->poetry) (1.3.1)\n",
      "Requirement already satisfied: typing_extensions>=4.5 in c:\\users\\agama\\appdata\\local\\pypoetry\\cache\\virtualenvs\\telecom-campaign-fbmhxd0f-py3.13\\lib\\site-packages (from anyio->httpx<1,>=0.27.0->pbs-installer[download,install]<2026.0.0,>=2025.1.6->poetry) (4.15.0)\n",
      "Requirement already satisfied: more-itertools in c:\\users\\agama\\appdata\\local\\pypoetry\\cache\\virtualenvs\\telecom-campaign-fbmhxd0f-py3.13\\lib\\site-packages (from jaraco.classes->keyring<26.0.0,>=25.1.0->poetry) (10.8.0)\n",
      "Requirement already satisfied: backports.tarfile in c:\\users\\agama\\appdata\\local\\pypoetry\\cache\\virtualenvs\\telecom-campaign-fbmhxd0f-py3.13\\lib\\site-packages (from jaraco.context->keyring<26.0.0,>=25.1.0->poetry) (1.2.0)\n"
     ]
    }
   ],
   "source": [
    "# Install Poetry (if not already installed)\n",
    "! pip install poetry"
   ]
  },
  {
   "cell_type": "code",
   "execution_count": null,
   "id": "3da0ba4d",
   "metadata": {},
   "outputs": [
    {
     "name": "stdout",
     "output_type": "stream",
     "text": [
      "Collecting pyenv-win\n",
      "  Using cached pyenv_win-3.1.1-py3-none-any.whl.metadata (24 kB)\n",
      "Using cached pyenv_win-3.1.1-py3-none-any.whl (3.6 MB)\n",
      "Installing collected packages: pyenv-win\n",
      "Successfully installed pyenv-win-3.1.1\n"
     ]
    },
    {
     "name": "stderr",
     "output_type": "stream",
     "text": [
      "WARNING: Target directory C:\\Users\\agama\\.pyenv\\.version already exists. Specify --upgrade to force replacement.\n",
      "WARNING: Target directory C:\\Users\\agama\\.pyenv\\pyenv-win already exists. Specify --upgrade to force replacement.\n",
      "WARNING: Target directory C:\\Users\\agama\\.pyenv\\pyenv_win-3.1.1.dist-info already exists. Specify --upgrade to force replacement.\n"
     ]
    },
    {
     "name": "stdout",
     "output_type": "stream",
     "text": [
      "\n",
      "SUCCESS: Specified value was saved.\n"
     ]
    },
    {
     "name": "stderr",
     "output_type": "stream",
     "text": [
      "\n",
      "WARNING: The data being saved is truncated to 1024 characters.\n"
     ]
    }
   ],
   "source": [
    "# Install pyenv-win and add to environment variables (if not already installed)\n",
    "!pip install pyenv-win --target %USERPROFILE%\\.pyenv\n",
    "# adding path to environment variable\n",
    "!powershell -Command \"[Environment]::SetEnvironmentVariable('PATH', $env:PATH + ';$env:USERPROFILE\\.pyenv\\pyenv-win\\bin;$env:USERPROFILE\\.pyenv\\pyenv-win\\shims', 'User')\"\n",
    "! where pyenv # Check if pyenv is accessible if not restart the kernel and run again\n",
    "#if still doesn't work install from youtube."
   ]
  },
  {
   "cell_type": "code",
   "execution_count": 8,
   "id": "5bea82bd",
   "metadata": {},
   "outputs": [
    {
     "data": {
      "text/plain": [
       "0"
      ]
     },
     "execution_count": 8,
     "metadata": {},
     "output_type": "execute_result"
    }
   ],
   "source": [
    "import os\n",
    "\n",
    "# Install Python 3.11.6 using pyenv\n",
    "os.system('pyenv install 3.11.6')\n",
    "\n",
    "# Set local Python version to 3.11.6\n",
    "os.system('pyenv local 3.11.6')\n",
    "\n",
    "# Install project dependencies with poetry\n",
    "os.system('poetry install')\n",
    "\n"
   ]
  },
  {
   "cell_type": "code",
   "execution_count": 11,
   "id": "2d9b7547",
   "metadata": {},
   "outputs": [
    {
     "data": {
      "text/plain": [
       "0"
      ]
     },
     "execution_count": 11,
     "metadata": {},
     "output_type": "execute_result"
    }
   ],
   "source": [
    "# Once everything is set up, you can download the dataset by running the following in your terminal:\n",
    "os.system ('python Telecom_campaign/dataset.py')"
   ]
  },
  {
   "cell_type": "code",
   "execution_count": null,
   "id": "7220fb91",
   "metadata": {},
   "outputs": [],
   "source": []
  }
 ],
 "metadata": {
  "kernelspec": {
   "display_name": "telecom-campaign-py3.13",
   "language": "python",
   "name": "python3"
  },
  "language_info": {
   "codemirror_mode": {
    "name": "ipython",
    "version": 3
   },
   "file_extension": ".py",
   "mimetype": "text/x-python",
   "name": "python",
   "nbconvert_exporter": "python",
   "pygments_lexer": "ipython3",
   "version": "3.11.6"
  }
 },
 "nbformat": 4,
 "nbformat_minor": 5
}
